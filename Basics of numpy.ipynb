{
 "cells": [
  {
   "cell_type": "code",
   "execution_count": 1,
   "id": "1a17ae22",
   "metadata": {
    "colab": {
     "base_uri": "https://localhost:8080/"
    },
    "id": "zVU1SYhfj2mO",
    "outputId": "5c7256d5-14ba-45b3-e7cc-455ea8f1fe7e",
    "scrolled": true
   },
   "outputs": [
    {
     "name": "stdout",
     "output_type": "stream",
     "text": [
      "is this connected to the server?\n"
     ]
    }
   ],
   "source": [
    "print('is this connected to the server?')"
   ]
  },
  {
   "cell_type": "code",
   "execution_count": 2,
   "id": "c96a00b2",
   "metadata": {
    "colab": {
     "base_uri": "https://localhost:8080/"
    },
    "id": "e9r89fufj-xs",
    "outputId": "9e59907d-e8df-47d9-f651-aed94ad3220a"
   },
   "outputs": [
    {
     "name": "stdout",
     "output_type": "stream",
     "text": [
      "[100, 200.2, 'Ronaldo', False] <class 'list'>\n"
     ]
    }
   ],
   "source": [
    "my_list = [100, 200.2,'Ronaldo', False]\n",
    "print(my_list, type(my_list))"
   ]
  },
  {
   "cell_type": "code",
   "execution_count": 3,
   "id": "c80e7392",
   "metadata": {
    "colab": {
     "base_uri": "https://localhost:8080/"
    },
    "id": "8yeG_gGlkwTV",
    "outputId": "d22befe4-466d-40ca-f553-30b3dd17bdb4"
   },
   "outputs": [
    {
     "name": "stdout",
     "output_type": "stream",
     "text": [
      "[101, 201.2, 301, 401]\n"
     ]
    },
    {
     "data": {
      "text/plain": [
       "373248000"
      ]
     },
     "execution_count": 3,
     "metadata": {},
     "output_type": "execute_result"
    }
   ],
   "source": [
    "my_list = [100, 200.2, 300, 400]\n",
    "print([x+1 for x in my_list])\n",
    "\n",
    "# youtube\n",
    "# 1080p Full HD\n",
    "1920*1080*3*60 # data points in 1 sec  >> 373,248,000"
   ]
  },
  {
   "cell_type": "code",
   "execution_count": 9,
   "id": "5a629d44",
   "metadata": {
    "id": "tjA2HXZ2kUza"
   },
   "outputs": [],
   "source": [
    "# can you write code that adds 1 to every element\n",
    "# subtracts 1 from every element\n",
    "# multiplies 2 python lists"
   ]
  },
  {
   "cell_type": "code",
   "execution_count": 10,
   "id": "1374475f",
   "metadata": {
    "colab": {
     "base_uri": "https://localhost:8080/"
    },
    "id": "7oe2SU90l0HW",
    "outputId": "f217b5db-ffea-4bed-ceac-5d6cd61dc36c"
   },
   "outputs": [
    {
     "name": "stdout",
     "output_type": "stream",
     "text": [
      "Requirement already satisfied: numpy in c:\\users\\umama\\anaconda3\\lib\\site-packages (1.20.3)\n"
     ]
    }
   ],
   "source": [
    "# ModuleNotFoundError: No module named 'numpy'\n",
    "!pip install numpy\n",
    "\n",
    "import numpy as np"
   ]
  },
  {
   "cell_type": "code",
   "execution_count": 12,
   "id": "a1d9dd16",
   "metadata": {
    "colab": {
     "base_uri": "https://localhost:8080/"
    },
    "id": "ny92Ui2-mV4R",
    "outputId": "934da3a8-371f-46b6-a0a7-7ac081083108"
   },
   "outputs": [
    {
     "name": "stdout",
     "output_type": "stream",
     "text": [
      "[1, 2, 3, 4, 5] <class 'list'>\n",
      "[1 2 3 4 5] <class 'numpy.ndarray'>\n",
      "[1.  2.  3.  4.  5.5]\n",
      "float64\n",
      "['1' '2' '3' '4' '5.5']\n"
     ]
    }
   ],
   "source": [
    "my_list = [1,2,3,4,5]\n",
    "print(my_list, type(my_list))\n",
    "\n",
    "arr = np.array([1,2,3,4,5])\n",
    "print(arr, type(arr))\n",
    "\n",
    "arr = np.array([1,2,3,4,5.5])\n",
    "print(arr)\n",
    "print(arr.dtype)\n",
    "# numpy arrays store only one data type at a time\n",
    "\n",
    "arr = np.array([1,2,3,\"4\",5.5])\n",
    "print(arr)"
   ]
  },
  {
   "cell_type": "code",
   "execution_count": 23,
   "id": "ba4d8222",
   "metadata": {
    "colab": {
     "base_uri": "https://localhost:8080/"
    },
    "id": "tNOhWwe-mzrq",
    "outputId": "e42aba94-c97c-4a47-c3c6-c62941cb3ce0"
   },
   "outputs": [
    {
     "name": "stdout",
     "output_type": "stream",
     "text": [
      "[[1, 2, 3], [4, 5, 6], [7, 8, 9], [10, 11, 12]] <class 'list'>\n",
      "7\n",
      "[[1, 2, 3], [4, 5, 6], [700, 8, 9], [10, 11, 12]] <class 'list'>\n",
      "[[  1   2   3]\n",
      " [  4   5   6]\n",
      " [700   8   9]\n",
      " [ 10  11  12]]\n",
      "(4, 3)\n",
      "700\n",
      "700\n",
      "[[  1   2   3]\n",
      " [  4   5   6]\n",
      " [700   8   9]\n",
      " [ 10  11  12]] <class 'numpy.ndarray'>\n"
     ]
    }
   ],
   "source": [
    "my_list = [[1,2,3],[4,5,6],[7,8,9],[10,11,12]]\n",
    "print(my_list, type(my_list))\n",
    "# reading\n",
    "# 7?\n",
    "print(my_list[2][0])\n",
    "# updating\n",
    "my_list[2][0] = 700\n",
    "print(my_list, type(my_list))\n",
    "\n",
    "arr = np.array(my_list)\n",
    "print(arr)\n",
    "print(arr.shape) # rows, cols\n",
    "# reading\n",
    "# 7?\n",
    "print(arr[2][0])\n",
    "print(arr[2,0])\n",
    "# updating\n",
    "arr[2,0] = 700\n",
    "print(arr, type(arr))"
   ]
  },
  {
   "cell_type": "code",
   "execution_count": null,
   "id": "d3c4b377",
   "metadata": {
    "id": "wnMrrP16o4M1"
   },
   "outputs": [],
   "source": [
    "# autocomplete >> ctr+space; tab\n",
    "# docs >> shift +tab"
   ]
  },
  {
   "cell_type": "code",
   "execution_count": 24,
   "id": "4f528530",
   "metadata": {
    "colab": {
     "base_uri": "https://localhost:8080/"
    },
    "id": "GbUmUuEOnzS6",
    "outputId": "566f3934-86d0-4a7c-fb8a-7e2f83d9bf45"
   },
   "outputs": [
    {
     "name": "stdout",
     "output_type": "stream",
     "text": [
      "[1 3 5 7 9]\n"
     ]
    }
   ],
   "source": [
    "# range of data\n",
    "arr = np.arange(1,10,2)\n",
    "print(arr)"
   ]
  },
  {
   "cell_type": "code",
   "execution_count": 26,
   "id": "5bd8b485",
   "metadata": {
    "colab": {
     "base_uri": "https://localhost:8080/"
    },
    "id": "c3GA0CTTpJXL",
    "outputId": "ba3a8600-3120-48d3-9201-5d62eb79958f"
   },
   "outputs": [
    {
     "name": "stdout",
     "output_type": "stream",
     "text": [
      "[[0. 0. 0.]\n",
      " [0. 0. 0.]\n",
      " [0. 0. 0.]\n",
      " [0. 0. 0.]]\n",
      "[[0 0 0]\n",
      " [0 0 0]\n",
      " [0 0 0]\n",
      " [0 0 0]]\n"
     ]
    }
   ],
   "source": [
    "# data of zeroes\n",
    "arr = np.zeros((4,3))\n",
    "print(arr)\n",
    "\n",
    "arr = np.zeros((4,3), dtype = int)\n",
    "print(arr)"
   ]
  },
  {
   "cell_type": "code",
   "execution_count": 27,
   "id": "8b6b20fd",
   "metadata": {
    "colab": {
     "base_uri": "https://localhost:8080/"
    },
    "id": "8MbNE-JXpsxq",
    "outputId": "0e892f80-b135-4c2c-e15b-2c5c97506e65"
   },
   "outputs": [
    {
     "name": "stdout",
     "output_type": "stream",
     "text": [
      "[[1. 1. 1.]\n",
      " [1. 1. 1.]\n",
      " [1. 1. 1.]\n",
      " [1. 1. 1.]]\n",
      "[[1 1 1]\n",
      " [1 1 1]\n",
      " [1 1 1]\n",
      " [1 1 1]]\n"
     ]
    }
   ],
   "source": [
    "# data of ones\n",
    "arr = np.ones((4,3))\n",
    "print(arr)\n",
    "\n",
    "arr = np.ones((4,3), dtype = int)\n",
    "print(arr)"
   ]
  },
  {
   "cell_type": "code",
   "execution_count": 28,
   "id": "467a0aca",
   "metadata": {
    "colab": {
     "base_uri": "https://localhost:8080/"
    },
    "id": "jZhlhVl_qDA5",
    "outputId": "0a1b26d1-3712-42c7-a71d-357ecf106d50"
   },
   "outputs": [
    {
     "name": "stdout",
     "output_type": "stream",
     "text": [
      "[1.         1.44444444 1.88888889 2.33333333 2.77777778 3.22222222\n",
      " 3.66666667 4.11111111 4.55555556 5.        ]\n"
     ]
    }
   ],
   "source": [
    "# linearly spaced data\n",
    "arr = np.linspace(1,5,10)\n",
    "print(arr)"
   ]
  },
  {
   "cell_type": "code",
   "execution_count": 29,
   "id": "efa8f2b2",
   "metadata": {
    "colab": {
     "base_uri": "https://localhost:8080/"
    },
    "id": "_4DuYd2gqYWC",
    "outputId": "b1402895-9778-4cef-a912-d6a2294500fa"
   },
   "outputs": [
    {
     "name": "stdout",
     "output_type": "stream",
     "text": [
      "[[1. 0. 0. 0. 0.]\n",
      " [0. 1. 0. 0. 0.]\n",
      " [0. 0. 1. 0. 0.]\n",
      " [0. 0. 0. 1. 0.]\n",
      " [0. 0. 0. 0. 1.]]\n"
     ]
    }
   ],
   "source": [
    "# identity matrix\n",
    "arr = np.eye(5)\n",
    "print(arr)"
   ]
  },
  {
   "cell_type": "code",
   "execution_count": 37,
   "id": "fb822418",
   "metadata": {
    "colab": {
     "base_uri": "https://localhost:8080/"
    },
    "id": "aZ2KJu4jrO2R",
    "outputId": "092de080-824c-4d27-a9ff-f654375f2d32"
   },
   "outputs": [
    {
     "name": "stdout",
     "output_type": "stream",
     "text": [
      "[[0.99469981 0.51985123 0.05933177]\n",
      " [0.92857893 0.74280855 0.63372959]\n",
      " [0.67237367 0.49451264 0.76282496]\n",
      " [0.7121117  0.2139143  0.90405361]]\n"
     ]
    }
   ],
   "source": [
    "# random data\n",
    "arr = np.random.rand(4,3,)\n",
    "print(arr)"
   ]
  },
  {
   "cell_type": "code",
   "execution_count": 38,
   "id": "4d774a70",
   "metadata": {
    "colab": {
     "base_uri": "https://localhost:8080/"
    },
    "id": "5r2kgIVFrgbi",
    "outputId": "b64bc249-a70f-4bb7-90a7-8b948c402ac3"
   },
   "outputs": [
    {
     "name": "stdout",
     "output_type": "stream",
     "text": [
      "[[93 52 81]\n",
      " [56 69 78]\n",
      " [51 22 57]\n",
      " [31 38 15]]\n"
     ]
    }
   ],
   "source": [
    "arr = np.random.randint(1,100,(4,3),)\n",
    "print(arr)"
   ]
  },
  {
   "cell_type": "code",
   "execution_count": 46,
   "id": "c6102d62",
   "metadata": {
    "colab": {
     "base_uri": "https://localhost:8080/"
    },
    "id": "2CSvNJfPsAV6",
    "outputId": "7daaa6a2-f5a6-4ab0-d35d-3ead1e63925a"
   },
   "outputs": [
    {
     "name": "stdout",
     "output_type": "stream",
     "text": [
      "[[ 1  2  3]\n",
      " [ 4  5  6]\n",
      " [ 7  8  9]\n",
      " [10 11 12]]\n",
      "(4, 3)\n",
      "[[ 1  2  3  4]\n",
      " [ 5  6  7  8]\n",
      " [ 9 10 11 12]]\n",
      "[[ 1  2]\n",
      " [ 3  4]\n",
      " [ 5  6]\n",
      " [ 7  8]\n",
      " [ 9 10]\n",
      " [11 12]]\n",
      "[[ 1  2  3  4  5  6]\n",
      " [ 7  8  9 10 11 12]]\n",
      "[[ 1]\n",
      " [ 2]\n",
      " [ 3]\n",
      " [ 4]\n",
      " [ 5]\n",
      " [ 6]\n",
      " [ 7]\n",
      " [ 8]\n",
      " [ 9]\n",
      " [10]\n",
      " [11]\n",
      " [12]]\n",
      "[[ 1  2  3  4  5  6  7  8  9 10 11 12]]\n"
     ]
    }
   ],
   "source": [
    "arr = np.array([[1,2,3],[4,5,6],[7,8,9],[10,11,12]])\n",
    "print(arr)\n",
    "print(arr.shape)\n",
    "\n",
    "print(arr.reshape(3,4))\n",
    "print(arr.reshape(6,2))\n",
    "print(arr.reshape(2,6))\n",
    "print(arr.reshape(12,1))\n",
    "print(arr.reshape(1,12))"
   ]
  },
  {
   "cell_type": "code",
   "execution_count": 53,
   "id": "e4a942e7",
   "metadata": {
    "colab": {
     "base_uri": "https://localhost:8080/"
    },
    "id": "AazMtTEZsl2K",
    "outputId": "40ddcff2-70ec-4807-dc7e-4043702291d7"
   },
   "outputs": [
    {
     "name": "stdout",
     "output_type": "stream",
     "text": [
      "[[ 1  2]\n",
      " [ 3  4]\n",
      " [ 5  6]\n",
      " [ 7  8]\n",
      " [ 9 10]\n",
      " [11 12]]\n",
      "6\n",
      "6\n",
      "[5 6]\n",
      "[5 6]\n",
      "[5 6]\n",
      "[ 2  4  6  8 10 12]\n"
     ]
    }
   ],
   "source": [
    "arr = np.array([[1,2,3],[4,5,6],[7,8,9],[10,11,12]]).reshape(6,2)\n",
    "print(arr)\n",
    "\n",
    "# single value\n",
    "print(arr[2][1])\n",
    "print(arr[2,1])\n",
    "\n",
    "# row \n",
    "print(arr[2])\n",
    "print(arr[2][:])\n",
    "print(arr[2,:])\n",
    "\n",
    "# col\n",
    "print(arr[:,1])"
   ]
  },
  {
   "cell_type": "code",
   "execution_count": 61,
   "id": "1b737721",
   "metadata": {
    "colab": {
     "base_uri": "https://localhost:8080/"
    },
    "id": "TK9Zvs8FtOoz",
    "outputId": "9952c571-66a0-44d9-aa40-cc9f362a9393"
   },
   "outputs": [
    {
     "name": "stdout",
     "output_type": "stream",
     "text": [
      "[[ 1  2]\n",
      " [ 3  4]\n",
      " [ 5  6]\n",
      " [ 7  8]\n",
      " [ 9 10]\n",
      " [11 12]]\n",
      ">> sum of the whole array\n",
      "78\n",
      ">> sum per col\n",
      "36\n",
      "42\n",
      "[36 42]\n",
      ">> sum per row\n",
      "3\n",
      "7\n",
      "11\n",
      "15\n",
      "19\n",
      "23\n",
      "[ 3  7 11 15 19 23]\n"
     ]
    }
   ],
   "source": [
    "arr = np.array([[1,2,3],[4,5,6],[7,8,9],[10,11,12]]).reshape(6,2)\n",
    "print(arr)\n",
    "\n",
    "print(\">> sum of the whole array\")\n",
    "print(arr.sum())\n",
    "\n",
    "print(\">> sum per col\") \n",
    "print(arr[:,0].sum())\n",
    "print(arr[:,1].sum())\n",
    "print(arr.sum(axis=0))\n",
    "\n",
    "print(\">> sum per row\") \n",
    "print(arr[0,:].sum())\n",
    "print(arr[1,:].sum())\n",
    "print(arr[2,:].sum())\n",
    "print(arr[3,:].sum())\n",
    "print(arr[4,:].sum())\n",
    "print(arr[5,:].sum())\n",
    "print(arr.sum(axis=1))"
   ]
  },
  {
   "cell_type": "code",
   "execution_count": 63,
   "id": "936d658e",
   "metadata": {
    "colab": {
     "base_uri": "https://localhost:8080/"
    },
    "id": "c9LLCLVkuDwq",
    "outputId": "7de5b0c9-8d25-4f30-8451-ac49cbb4a96e"
   },
   "outputs": [
    {
     "name": "stdout",
     "output_type": "stream",
     "text": [
      "[ 1.5  3.5  5.5  7.5  9.5 11.5]\n",
      "[ 1  3  5  7  9 11]\n"
     ]
    }
   ],
   "source": [
    "print(arr.mean(axis=1))\n",
    "print(arr.min(axis=1))"
   ]
  },
  {
   "cell_type": "code",
   "execution_count": 68,
   "id": "06b90ad1",
   "metadata": {
    "colab": {
     "base_uri": "https://localhost:8080/"
    },
    "id": "ZvHIXlhkvkBx",
    "outputId": "2cd4722a-e897-4e61-d45b-90b60b92775a"
   },
   "outputs": [
    {
     "name": "stdout",
     "output_type": "stream",
     "text": [
      "[[ 1  2  3  4  5]\n",
      " [ 6  7  8  9 10]\n",
      " [11 12 13 14 15]\n",
      " [16 17 18 19 20]]\n",
      "[[ 1  2  3  4  5]\n",
      " [ 6  7  8  9 10]\n",
      " [11 12 13 14 15]\n",
      " [16 17 18 19 20]]\n"
     ]
    }
   ],
   "source": [
    "#1# create an array without using np.array\n",
    "# [[ 1  2  3  4  5]\n",
    "#  [ 6  7  8  9 10]\n",
    "#  [11 12 13 14 15]\n",
    "#  [16 17 18 19 20]]\n",
    "print(np.arange(1,21).reshape(4,5))\n",
    "print(np.linspace(1,20,20,dtype=int).reshape(4,5))"
   ]
  },
  {
   "cell_type": "code",
   "execution_count": 71,
   "id": "338dcbe0",
   "metadata": {
    "colab": {
     "base_uri": "https://localhost:8080/"
    },
    "id": "p945bWANxAAS",
    "outputId": "b57def09-818c-44e8-8de0-89a0eedcc48c"
   },
   "outputs": [
    {
     "name": "stdout",
     "output_type": "stream",
     "text": [
      "[0 1 2 3 4 5 6 7 8 9]\n",
      "[0 1 2 3]\n",
      "[100 200   2   3   4   5   6   7   8   9]\n",
      "[100 200   2   3]\n"
     ]
    }
   ],
   "source": [
    "# array broadcasting\n",
    "original_arr = np.arange(10)\n",
    "print(original_arr)\n",
    "\n",
    "new_arr = original_arr[:4]\n",
    "print(new_arr)\n",
    "\n",
    "original_arr[0] = 100 \n",
    "new_arr [1] = 200\n",
    "print(original_arr)\n",
    "print(new_arr)\n"
   ]
  },
  {
   "cell_type": "code",
   "execution_count": 72,
   "id": "42b05826",
   "metadata": {
    "colab": {
     "base_uri": "https://localhost:8080/"
    },
    "id": "mZE5vWvV4e1K",
    "outputId": "e744a8fb-6900-4566-a734-6396f8018840"
   },
   "outputs": [
    {
     "name": "stdout",
     "output_type": "stream",
     "text": [
      "[0 1 2 3 4 5 6 7 8 9]\n",
      "[0 1 2 3]\n",
      "[100   1   2   3   4   5   6   7   8   9]\n",
      "[  0 200   2   3]\n"
     ]
    }
   ],
   "source": [
    "original_arr = np.arange(10)\n",
    "print(original_arr)\n",
    "\n",
    "new_arr = original_arr[:4].copy()\n",
    "print(new_arr)\n",
    "\n",
    "original_arr[0] = 100 \n",
    "new_arr [1] = 200\n",
    "print(original_arr)\n",
    "print(new_arr)"
   ]
  },
  {
   "cell_type": "code",
   "execution_count": 75,
   "id": "40389ed0",
   "metadata": {
    "colab": {
     "base_uri": "https://localhost:8080/"
    },
    "id": "A_Rz5hfW5TH_",
    "outputId": "c6159b03-bc22-4270-fa2b-3754143e9cf6"
   },
   "outputs": [
    {
     "name": "stdout",
     "output_type": "stream",
     "text": [
      "[0 1 2 3 4 5 6 7 8 9]\n",
      "[False False False False False  True  True  True  True  True]\n",
      "[5 6 7 8 9]\n"
     ]
    }
   ],
   "source": [
    "# array conditionals\n",
    "arr = np.arange(10)\n",
    "print(arr)\n",
    "\n",
    "print(arr>4)\n",
    "print(arr[arr>4])"
   ]
  },
  {
   "cell_type": "code",
   "execution_count": 76,
   "id": "a92b9ee9",
   "metadata": {
    "colab": {
     "base_uri": "https://localhost:8080/"
    },
    "id": "032xpo-15Y_Z",
    "outputId": "650c3d55-2f79-4886-a5df-b5fa1201cdc8"
   },
   "outputs": [
    {
     "name": "stdout",
     "output_type": "stream",
     "text": [
      "[0 2 4 6 8]\n"
     ]
    }
   ],
   "source": [
    "# Exercise: get even numbers from \n",
    "arr = np.arange(10)\n",
    "print(arr[arr%2==0])"
   ]
  },
  {
   "cell_type": "code",
   "execution_count": 88,
   "id": "4c83c1be",
   "metadata": {
    "colab": {
     "base_uri": "https://localhost:8080/"
    },
    "id": "HzjAes5_643a",
    "outputId": "e0a09c24-528a-4c6d-ced3-93eb87376c76"
   },
   "outputs": [
    {
     "name": "stdout",
     "output_type": "stream",
     "text": [
      "[1, 2, 3, 4, 5, 6, 7, 8, 9, 10]\n",
      "[ 1  2  3  4  5  6  7  8  9 10]\n",
      "+\n",
      "[1, 2, 3, 4, 5, 6, 7, 8, 9, 10, 1, 2, 3, 4, 5, 6, 7, 8, 9, 10, 1, 2, 3, 4, 5, 6, 7, 8, 9, 10]\n",
      "[ 2  4  6  8 10 12 14 16 18 20]\n",
      "-\n",
      "[0 0 0 0 0 0 0 0 0 0]\n",
      "*\n",
      "[  1   4   9  16  25  36  49  64  81 100]\n",
      "/\n",
      "[1. 1. 1. 1. 1. 1. 1. 1. 1. 1.]\n",
      "%\n",
      "[0 0 0 0 0 0 0 0 0 0]\n"
     ]
    }
   ],
   "source": [
    "# maths\n",
    "lst = list(range(1,11))\n",
    "arr = np.arange(1,11)\n",
    "print(lst)\n",
    "print(arr)\n",
    "\n",
    "print('+')\n",
    "print(lst+lst+lst)\n",
    "print(arr+arr)\n",
    "# print(arr+arr[:4])\n",
    "\n",
    "print('-')\n",
    "# print(lst-lst) #TypeError: unsupported operand type\n",
    "print(arr-arr)\n",
    "\n",
    "print('*')\n",
    "# print(lst*lst)\n",
    "print(arr*arr)\n",
    "\n",
    "print('/')\n",
    "# print(lst/lst)\n",
    "print(arr/arr)\n",
    "\n",
    "print('%')\n",
    "# print(lst%lst)\n",
    "print(arr%arr)"
   ]
  },
  {
   "cell_type": "code",
   "execution_count": 94,
   "id": "ef331887",
   "metadata": {
    "colab": {
     "base_uri": "https://localhost:8080/"
    },
    "id": "x7acv4fY7GCZ",
    "outputId": "1b2ceb50-f7b1-4a99-e4f1-83816618af16"
   },
   "outputs": [
    {
     "name": "stdout",
     "output_type": "stream",
     "text": [
      "[1, 2, 3, 4, 5, 6, 7, 8, 9, 10]\n",
      "[ 1  2  3  4  5  6  7  8  9 10]\n",
      "+\n",
      "[ 3  4  5  6  7  8  9 10 11 12]\n",
      "*\n",
      "[1, 2, 3, 4, 5, 6, 7, 8, 9, 10, 1, 2, 3, 4, 5, 6, 7, 8, 9, 10, 1, 2, 3, 4, 5, 6, 7, 8, 9, 10]\n",
      "[ 2  4  6  8 10 12 14 16 18 20]\n",
      "/\n",
      "[0.5 1.  1.5 2.  2.5 3.  3.5 4.  4.5 5. ]\n",
      "-\n",
      "[-1  0  1  2  3  4  5  6  7  8]\n"
     ]
    }
   ],
   "source": [
    "# maths\n",
    "lst = list(range(1,11))\n",
    "arr = np.arange(1,11)\n",
    "print(lst)\n",
    "print(arr)\n",
    "\n",
    "print('+')\n",
    "# print(lst+2)\n",
    "print(arr+2)\n",
    "\n",
    "\n",
    "print('*')\n",
    "print(lst*3) # a*2 = a+a\n",
    "print(arr*2)\n",
    "\n",
    "print('/')\n",
    "# print(lst/2)\n",
    "print(arr/2)\n",
    "\n",
    "print('-')\n",
    "# print(lst-2)\n",
    "print(arr-2)"
   ]
  },
  {
   "cell_type": "code",
   "execution_count": 99,
   "id": "1bffb2af",
   "metadata": {
    "colab": {
     "base_uri": "https://localhost:8080/"
    },
    "id": "ga-dmtY78oGh",
    "outputId": "96a45854-589b-4fe1-b17c-f03ba8ad3fa1"
   },
   "outputs": [
    {
     "name": "stdout",
     "output_type": "stream",
     "text": [
      "[ 1  2  3  4  5  6  7  8  9 10]\n",
      "square\n",
      "[  1   4   9  16  25  36  49  64  81 100]\n",
      "[  1   4   9  16  25  36  49  64  81 100]\n",
      "square root\n",
      "[1.         1.41421356 1.73205081 2.         2.23606798 2.44948974\n",
      " 2.64575131 2.82842712 3.         3.16227766]\n",
      "[1.         1.41421356 1.73205081 2.         2.23606798 2.44948974\n",
      " 2.64575131 2.82842712 3.         3.16227766]\n",
      "sin cos\n",
      "[ 0.84147098  0.90929743  0.14112001 -0.7568025  -0.95892427 -0.2794155\n",
      "  0.6569866   0.98935825  0.41211849 -0.54402111]\n",
      "[ 0.54030231 -0.41614684 -0.9899925  -0.65364362  0.28366219  0.96017029\n",
      "  0.75390225 -0.14550003 -0.91113026 -0.83907153]\n",
      "log\n",
      "[0.         0.69314718 1.09861229 1.38629436 1.60943791 1.79175947\n",
      " 1.94591015 2.07944154 2.19722458 2.30258509]\n"
     ]
    }
   ],
   "source": [
    "arr = np.arange(1,11)\n",
    "print(arr)\n",
    "\n",
    "print('square')\n",
    "print(arr*arr)\n",
    "print(arr**2)\n",
    "print('square root')\n",
    "print(arr**(1/2))\n",
    "print(np.sqrt(arr))\n",
    "print('sin cos')\n",
    "print(np.sin(arr))\n",
    "print(np.cos(arr))\n",
    "print('log')\n",
    "print(np.log(arr))"
   ]
  },
  {
   "cell_type": "code",
   "execution_count": 103,
   "id": "20a40a7b",
   "metadata": {
    "colab": {
     "base_uri": "https://localhost:8080/"
    },
    "id": "xDgRqobB9aVC",
    "outputId": "d571d0e5-2e6c-4b35-a3a6-d2e2ca91fbf1"
   },
   "outputs": [
    {
     "name": "stdout",
     "output_type": "stream",
     "text": [
      "[ 0  1  2  3  4  5  6  7  8  9 10]\n",
      "[  0   1   4   9  16  25  36  49  64  81 100]\n",
      "[nan  1.  1.  1.  1.  1.  1.  1.  1.  1.  1.]\n"
     ]
    },
    {
     "name": "stderr",
     "output_type": "stream",
     "text": [
      "/usr/local/lib/python3.7/dist-packages/ipykernel_launcher.py:4: RuntimeWarning: invalid value encountered in true_divide\n",
      "  after removing the cwd from sys.path.\n"
     ]
    }
   ],
   "source": [
    "arr = np.arange(11)\n",
    "print(arr)\n",
    "print(arr*arr)\n",
    "print(arr/arr)"
   ]
  },
  {
   "cell_type": "code",
   "execution_count": 104,
   "id": "bde40dae",
   "metadata": {
    "colab": {
     "base_uri": "https://localhost:8080/"
    },
    "id": "YkWMPdET-hux",
    "outputId": "9fc2a78d-29c4-4f5f-e417-a61027a92b7d"
   },
   "outputs": [
    {
     "name": "stdout",
     "output_type": "stream",
     "text": [
      "nan\n"
     ]
    }
   ],
   "source": [
    "# nan: not a number\n",
    "print(np.nan)"
   ]
  },
  {
   "cell_type": "code",
   "execution_count": 105,
   "id": "371dba94",
   "metadata": {
    "colab": {
     "base_uri": "https://localhost:8080/"
    },
    "id": "h--6eL-T-3Wt",
    "outputId": "7d319fda-955d-40aa-e4f0-690421b23ff0"
   },
   "outputs": [
    {
     "name": "stdout",
     "output_type": "stream",
     "text": [
      "False\n"
     ]
    }
   ],
   "source": [
    "print(np.nan==np.nan)\n",
    "\n",
    "# apple      ==  grapes\n",
    "\n",
    "# not orange == not orange"
   ]
  },
  {
   "cell_type": "code",
   "execution_count": 108,
   "id": "f0adc596",
   "metadata": {
    "colab": {
     "base_uri": "https://localhost:8080/"
    },
    "id": "BWXYTssJ_dDd",
    "outputId": "315f56d2-2df2-4a70-a853-fa3e3e0d8766"
   },
   "outputs": [
    {
     "name": "stdout",
     "output_type": "stream",
     "text": [
      "[ 1  2  3  4  5  6  7  8  9 10]\n",
      "found 7 at 6\n",
      "(array([6]),)\n"
     ]
    }
   ],
   "source": [
    "arr = np.arange(1,11)\n",
    "print(arr)\n",
    "weWantToFind = 7\n",
    "pos = 0\n",
    "for i in arr:\n",
    "    if i==weWantToFind:\n",
    "        print(f'found {weWantToFind} at {pos}')\n",
    "        break\n",
    "    else:\n",
    "        pos = pos+1\n",
    "print(np.where(arr==7))"
   ]
  },
  {
   "cell_type": "code",
   "execution_count": 109,
   "id": "b383c911",
   "metadata": {
    "colab": {
     "base_uri": "https://localhost:8080/"
    },
    "id": "QaM26lpA_lJj",
    "outputId": "fd2b993d-566f-4632-d300-81e67f3e16b4"
   },
   "outputs": [
    {
     "name": "stdout",
     "output_type": "stream",
     "text": [
      "(array([0, 3, 6]),)\n"
     ]
    }
   ],
   "source": [
    "arr = np.array([7,5,9,7,6,2,7,3,6])\n",
    "print(np.where(arr==7))"
   ]
  },
  {
   "cell_type": "code",
   "execution_count": 111,
   "id": "07837849",
   "metadata": {
    "colab": {
     "base_uri": "https://localhost:8080/"
    },
    "id": "iT8UwlAVANPr",
    "outputId": "a8012f3c-7960-4f16-e604-c09df87df81a"
   },
   "outputs": [
    {
     "name": "stdout",
     "output_type": "stream",
     "text": [
      "[[ 1  2  7]\n",
      " [ 7  5  7]\n",
      " [10  7 11]]\n",
      "(array([0, 1, 1, 2]), array([2, 0, 2, 1]))\n"
     ]
    }
   ],
   "source": [
    "arr = np.array([[1,2,7],[7,5,7],[10,7,11]])\n",
    "print(arr)\n",
    "print(np.where(arr==7))"
   ]
  },
  {
   "cell_type": "code",
   "execution_count": 117,
   "id": "f63503a7",
   "metadata": {
    "colab": {
     "base_uri": "https://localhost:8080/"
    },
    "id": "4pt7ASCUAUEx",
    "outputId": "f9b0df9c-a174-4699-f039-0b814219a260"
   },
   "outputs": [
    {
     "name": "stdout",
     "output_type": "stream",
     "text": [
      "[ 0  1  2  3  4  5  6  7  8  9 10]\n",
      "[nan  1.  1.  1.  1.  1.  1.  1.  1.  1.  1.]\n",
      "[False False False False False False False False False False False]\n",
      "[ True False False False False False False False False False False]\n",
      "[nan]\n",
      "[0. 1. 1. 1. 1. 1. 1. 1. 1. 1. 1.]\n"
     ]
    },
    {
     "name": "stderr",
     "output_type": "stream",
     "text": [
      "/usr/local/lib/python3.7/dist-packages/ipykernel_launcher.py:3: RuntimeWarning: invalid value encountered in true_divide\n",
      "  This is separate from the ipykernel package so we can avoid doing imports until\n"
     ]
    }
   ],
   "source": [
    "arr = np.arange(11)\n",
    "print(arr)\n",
    "new_arr = arr/arr\n",
    "print(new_arr)\n",
    "print(new_arr==np.nan)\n",
    "print(np.isnan(new_arr))\n",
    "print(new_arr[np.isnan(new_arr)])\n",
    "new_arr[np.isnan(new_arr)] = 0\n",
    "print(new_arr)"
   ]
  },
  {
   "cell_type": "code",
   "execution_count": 118,
   "id": "b860490e",
   "metadata": {
    "colab": {
     "base_uri": "https://localhost:8080/"
    },
    "id": "mh5_TS1QCW52",
    "outputId": "72d18215-4f98-4068-e4c9-5c4b24e9b686"
   },
   "outputs": [
    {
     "name": "stdout",
     "output_type": "stream",
     "text": [
      "[ 94 -14  82  19 -72  -9  46  29  43 -92]\n"
     ]
    }
   ],
   "source": [
    "arr = np.random.randint(-99,99,10)\n",
    "print(arr)"
   ]
  },
  {
   "cell_type": "code",
   "execution_count": 122,
   "id": "8743fbfa",
   "metadata": {
    "colab": {
     "base_uri": "https://localhost:8080/"
    },
    "id": "3ew8pQibA8aK",
    "outputId": "1819dd14-a0a6-4a99-af3c-33187c9952c0"
   },
   "outputs": [
    {
     "name": "stdout",
     "output_type": "stream",
     "text": [
      "[-92 -72 -14  -9  19  29  43  46  82  94]\n",
      "[ 94  82  46  43  29  19  -9 -14 -72 -92]\n",
      "[ 94  82  46  43  29  19  -9 -14 -72 -92]\n"
     ]
    }
   ],
   "source": [
    "# sorting\n",
    "print(np.sort(arr))\n",
    "\n",
    "# descending\n",
    "print(np.sort(arr)[::-1])\n",
    "print(-np.sort(-arr))"
   ]
  },
  {
   "cell_type": "code",
   "execution_count": null,
   "id": "c137aaee",
   "metadata": {
    "id": "aEYV653GChuK"
   },
   "outputs": [],
   "source": [
    "#  1 <  2\n",
    "# -1 > -2"
   ]
  },
  {
   "cell_type": "code",
   "execution_count": null,
   "id": "9c4a6b03",
   "metadata": {
    "id": "ouuC8bQ1Dxbu"
   },
   "outputs": [],
   "source": [
    "# which is vertical?\n",
    "#1 |\n",
    "#2 --"
   ]
  },
  {
   "cell_type": "code",
   "execution_count": 123,
   "id": "5953cdf8",
   "metadata": {
    "colab": {
     "base_uri": "https://localhost:8080/"
    },
    "id": "PdxgxacjD39K",
    "outputId": "f17487da-0bb4-45d4-93a5-381df1868a47"
   },
   "outputs": [
    {
     "name": "stdout",
     "output_type": "stream",
     "text": [
      "[[-24 -48   2]\n",
      " [ 78 -83 -23]]\n"
     ]
    }
   ],
   "source": [
    "arr = np.random.randint(-99,99,(2,3))\n",
    "print(arr)"
   ]
  },
  {
   "cell_type": "code",
   "execution_count": 126,
   "id": "f89fd117",
   "metadata": {
    "colab": {
     "base_uri": "https://localhost:8080/"
    },
    "id": "Cjh7VUV7D8rT",
    "outputId": "ad609777-fea2-4fca-d503-4e036a10e12c"
   },
   "outputs": [
    {
     "name": "stdout",
     "output_type": "stream",
     "text": [
      "[[ 22 -46  33]\n",
      " [-32 -48 -19]\n",
      " [-77 -38  92]\n",
      " [-67  47 -31]]\n"
     ]
    }
   ],
   "source": [
    "# | # same no of cols\n",
    "print(np.vstack((np.random.randint(-99,99,(2,3)), np.random.randint(-99,99,(2,3)))))"
   ]
  },
  {
   "cell_type": "code",
   "execution_count": 125,
   "id": "47365f45",
   "metadata": {
    "colab": {
     "base_uri": "https://localhost:8080/"
    },
    "id": "Fw70PbhkEPxI",
    "outputId": "a57cd4b3-2476-4fb1-851f-ccb037fe8a24"
   },
   "outputs": [
    {
     "name": "stdout",
     "output_type": "stream",
     "text": [
      "[[-24 -48   2 -24 -48   2]\n",
      " [ 78 -83 -23  78 -83 -23]]\n"
     ]
    }
   ],
   "source": [
    "# -- # same no of rows\n",
    "print(np.hstack((arr, arr)))"
   ]
  },
  {
   "cell_type": "code",
   "execution_count": 127,
   "id": "49fc4c43",
   "metadata": {
    "colab": {
     "base_uri": "https://localhost:8080/"
    },
    "id": "XBO1tDuaESGK",
    "outputId": "953d15f3-ab8c-4ccd-e372-d5c63888ea56"
   },
   "outputs": [
    {
     "name": "stdout",
     "output_type": "stream",
     "text": [
      "[[ 1.  2. nan]\n",
      " [nan  5. nan]\n",
      " [ 1. nan 11.]]\n"
     ]
    }
   ],
   "source": [
    "arr = np.array([[1,2,np.nan], [np.nan,5,np.nan],[1,np.nan,11]])\n",
    "print(arr)"
   ]
  },
  {
   "cell_type": "code",
   "execution_count": 132,
   "id": "a43c9dc8",
   "metadata": {
    "colab": {
     "base_uri": "https://localhost:8080/"
    },
    "id": "oElfaNv-Gmc2",
    "outputId": "1395bd10-564c-4d45-832e-478be19f3623"
   },
   "outputs": [
    {
     "name": "stdout",
     "output_type": "stream",
     "text": [
      "<class 'tuple'>\n",
      "[0 1 1 2]\n"
     ]
    }
   ],
   "source": [
    "# Find rows index that have nan values >> [0, 1, 1, 2])\n",
    "print(type(np.where(np.isnan(arr))))\n",
    "print(np.where(np.isnan(arr))[0])"
   ]
  },
  {
   "cell_type": "code",
   "execution_count": 129,
   "id": "19d0b922",
   "metadata": {
    "colab": {
     "base_uri": "https://localhost:8080/"
    },
    "id": "HHYVZeZlEwEy",
    "outputId": "aa81a072-aff5-4d68-adbd-841f928beb16"
   },
   "outputs": [
    {
     "name": "stdout",
     "output_type": "stream",
     "text": [
      "[1 2 1]\n"
     ]
    }
   ],
   "source": [
    "# Find frequency of nan values per row >> [1 2 1]\n",
    "print(np.isnan(arr).sum(axis=1))"
   ]
  },
  {
   "cell_type": "code",
   "execution_count": null,
   "id": "d668b0c9",
   "metadata": {
    "id": "f-EP0jbmGTKq"
   },
   "outputs": [],
   "source": []
  },
  {
   "cell_type": "code",
   "execution_count": 1,
   "id": "3407978b",
   "metadata": {},
   "outputs": [],
   "source": [
    "import numpy as np"
   ]
  },
  {
   "cell_type": "code",
   "execution_count": null,
   "id": "afa647ef",
   "metadata": {},
   "outputs": [],
   "source": [
    "# Numpy: Num stands for numbericak nad Py for python"
   ]
  },
  {
   "cell_type": "code",
   "execution_count": null,
   "id": "3c3076d5",
   "metadata": {},
   "outputs": [],
   "source": [
    "# https://www.numpy.org\n",
    "# https://numpy.org/doc\n",
    "# # https://github.com/numpy/numpy\n",
    "\n",
    "\n",
    "Referance "
   ]
  },
  {
   "cell_type": "code",
   "execution_count": 2,
   "id": "79752cf4",
   "metadata": {},
   "outputs": [
    {
     "name": "stdout",
     "output_type": "stream",
     "text": [
      "is this connected to server?\n"
     ]
    }
   ]
   
